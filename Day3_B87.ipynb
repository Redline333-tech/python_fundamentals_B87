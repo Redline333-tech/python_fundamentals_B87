{
 "cells": [
  {
   "cell_type": "code",
   "execution_count": 7,
   "id": "f95652bb-c7e9-47a4-871c-7fcee6b834ef",
   "metadata": {},
   "outputs": [
    {
     "name": "stdout",
     "output_type": "stream",
     "text": [
      "list some of your favourite programing language\n"
     ]
    }
   ],
   "source": [
    "question = \"list some of your favourite programing language\"\n",
    "\n",
    "print(question)"
   ]
  },
  {
   "cell_type": "code",
   "execution_count": 13,
   "id": "5ce46d66-a537-46f2-b84f-b369c42e1439",
   "metadata": {},
   "outputs": [
    {
     "name": "stdout",
     "output_type": "stream",
     "text": [
      "Some Of My Favourite Programing\n",
      "Languages Are As Follows:-\n",
      "\tJava\n",
      "\tPython\n",
      "\tC++\n"
     ]
    }
   ],
   "source": [
    "answer = \"some of my favourite programing\\nlanguages are as follows:-\\n\\tjava\\n\\tpython\\n\\tc++\"\n",
    "\n",
    "print(answer.title().strip())"
   ]
  },
  {
   "cell_type": "code",
   "execution_count": 23,
   "id": "f080b11e-c5cd-4c50-81d6-574917cef64a",
   "metadata": {},
   "outputs": [
    {
     "name": "stdout",
     "output_type": "stream",
     "text": [
      "Hello Mr Ravi Kumar We Have Recived Your Answer For Our Question What Is\n",
      "Your Favourite Programing Language Thank You For Your Response Mr Ravi Kumar\n"
     ]
    }
   ],
   "source": [
    "firstname = \"ravi\"\n",
    "\n",
    "lastname = \"kumar\"\n",
    "\n",
    "fullname = f\" {firstname} {lastname}\"\n",
    "\n",
    "message = f\" Hello Mr {fullname.title().strip()} We have recived your Answer for our question what is\\nyour favourite programing language thank you for your response Mr {fullname.title().strip()} \"\n",
    "\n",
    "print(message.title().strip())"
   ]
  },
  {
   "cell_type": "code",
   "execution_count": null,
   "id": "b167d647-3e56-4e46-9311-0049c8097671",
   "metadata": {},
   "outputs": [],
   "source": []
  },
  {
   "cell_type": "code",
   "execution_count": null,
   "id": "5f759524-8349-4f22-99f7-c64ba5b7b975",
   "metadata": {},
   "outputs": [],
   "source": []
  },
  {
   "cell_type": "code",
   "execution_count": null,
   "id": "df3bb66b-a54a-47e5-b09a-b3721ae04e10",
   "metadata": {},
   "outputs": [],
   "source": []
  },
  {
   "cell_type": "code",
   "execution_count": null,
   "id": "ce1798d8-5344-47bc-abf3-8c6692b9277e",
   "metadata": {},
   "outputs": [],
   "source": []
  },
  {
   "cell_type": "code",
   "execution_count": null,
   "id": "2275c352-ed0d-417d-96c0-acfe52499f01",
   "metadata": {},
   "outputs": [],
   "source": []
  },
  {
   "cell_type": "code",
   "execution_count": null,
   "id": "6a106549-a8c9-4f17-bbc4-9bb90da23ad4",
   "metadata": {},
   "outputs": [],
   "source": []
  },
  {
   "cell_type": "code",
   "execution_count": null,
   "id": "3f19df98-d755-4b68-a6b7-0704bc757748",
   "metadata": {},
   "outputs": [],
   "source": []
  },
  {
   "cell_type": "code",
   "execution_count": null,
   "id": "8f65212b-269b-4682-9b36-a299a559ea5a",
   "metadata": {},
   "outputs": [],
   "source": []
  },
  {
   "cell_type": "code",
   "execution_count": null,
   "id": "f139fa12-ca35-45b1-b8d6-8d18cfa2881e",
   "metadata": {},
   "outputs": [],
   "source": []
  },
  {
   "cell_type": "code",
   "execution_count": null,
   "id": "90487afa-0fba-42bd-a78b-5d10ba3cd637",
   "metadata": {},
   "outputs": [],
   "source": []
  },
  {
   "cell_type": "code",
   "execution_count": null,
   "id": "151e6325-cc42-4843-87a0-df25ebcf782e",
   "metadata": {},
   "outputs": [],
   "source": []
  }
 ],
 "metadata": {
  "kernelspec": {
   "display_name": "Python 3 (ipykernel)",
   "language": "python",
   "name": "python3"
  },
  "language_info": {
   "codemirror_mode": {
    "name": "ipython",
    "version": 3
   },
   "file_extension": ".py",
   "mimetype": "text/x-python",
   "name": "python",
   "nbconvert_exporter": "python",
   "pygments_lexer": "ipython3",
   "version": "3.12.4"
  }
 },
 "nbformat": 4,
 "nbformat_minor": 5
}
