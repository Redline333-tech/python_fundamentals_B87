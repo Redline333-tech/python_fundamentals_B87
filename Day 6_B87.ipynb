{
 "cells": [
  {
   "cell_type": "code",
   "execution_count": null,
   "id": "c3016280-befc-45a0-b409-5abe49802b8a",
   "metadata": {},
   "outputs": [],
   "source": [
    "continuation with list datatype:-\n",
    "\n",
    "\n"
   ]
  },
  {
   "cell_type": "code",
   "execution_count": null,
   "id": "5ea51443-1428-4b27-83d1-da5a37e3c228",
   "metadata": {},
   "outputs": [],
   "source": [
    "intooduction to looping statements:"
   ]
  },
  {
   "cell_type": "code",
   "execution_count": null,
   "id": "5f1ff874-bc7f-4fb6-83a3-ab5d6a94b724",
   "metadata": {},
   "outputs": [],
   "source": [
    "understanding the concept for loop :"
   ]
  },
  {
   "cell_type": "code",
   "execution_count": null,
   "id": "415b01f5-97fe-4fff-bcdb-7a796faf1dfb",
   "metadata": {},
   "outputs": [],
   "source": []
  },
  {
   "cell_type": "code",
   "execution_count": 5,
   "id": "463d8f41-1f63-4007-81f5-58b2d1f27c86",
   "metadata": {},
   "outputs": [
    {
     "name": "stdout",
     "output_type": "stream",
     "text": [
      "['saima', 'keerti', 'naveen', 'Kalyan', 'anusha', 'bushra']\n"
     ]
    }
   ],
   "source": [
    "students = ['saima', 'keerti', 'naveen', 'Kalyan','anusha','bushra']\n",
    "\n",
    "print(students)"
   ]
  },
  {
   "cell_type": "code",
   "execution_count": null,
   "id": "d122a712-df96-4354-a6f2-850b10e3a5f9",
   "metadata": {},
   "outputs": [],
   "source": []
  },
  {
   "cell_type": "code",
   "execution_count": 7,
   "id": "4600e076-ebad-4127-9657-c5587c88b62b",
   "metadata": {},
   "outputs": [
    {
     "data": {
      "text/plain": [
       "list"
      ]
     },
     "execution_count": 7,
     "metadata": {},
     "output_type": "execute_result"
    }
   ],
   "source": [
    "type(students)"
   ]
  },
  {
   "cell_type": "code",
   "execution_count": null,
   "id": "7818f9c1-413d-4080-afd5-1efa3dae7222",
   "metadata": {},
   "outputs": [],
   "source": []
  },
  {
   "cell_type": "code",
   "execution_count": null,
   "id": "330cb570-7816-4d0b-b5e6-58f7bc3405b9",
   "metadata": {},
   "outputs": [],
   "source": [
    "#requirement: to appreciate the list of students mentioned above "
   ]
  },
  {
   "cell_type": "code",
   "execution_count": 17,
   "id": "39816048-720b-4920-a476-54bda02337c9",
   "metadata": {},
   "outputs": [
    {
     "name": "stdout",
     "output_type": "stream",
     "text": [
      "keep up the good work, Saima\n"
     ]
    }
   ],
   "source": [
    "print(f\"keep up the good work, {students[0].title()}\")"
   ]
  },
  {
   "cell_type": "code",
   "execution_count": 19,
   "id": "9abea5b1-f25d-4ce9-8503-5538c877555d",
   "metadata": {},
   "outputs": [
    {
     "name": "stdout",
     "output_type": "stream",
     "text": [
      "keep up the good work, Keerti\n"
     ]
    }
   ],
   "source": [
    "print(f\"keep up the good work, {students[1].title()}\")"
   ]
  },
  {
   "cell_type": "code",
   "execution_count": null,
   "id": "e91e5c4b-147c-477d-8414-e58e0af38df2",
   "metadata": {},
   "outputs": [],
   "source": [
    "#general syntax of For Loop :-"
   ]
  },
  {
   "cell_type": "code",
   "execution_count": null,
   "id": "fde9e130-ad68-40f5-aa83-3205a8b19ba3",
   "metadata": {},
   "outputs": [],
   "source": [
    "for temporaryvariable in main variable"
   ]
  },
  {
   "cell_type": "code",
   "execution_count": null,
   "id": "705b6ed2-d53e-4005-a30e-22778901f967",
   "metadata": {},
   "outputs": [],
   "source": [
    "print(temporaryvariable)"
   ]
  },
  {
   "cell_type": "code",
   "execution_count": 21,
   "id": "a240958a-74e4-46e5-a408-a541a2d8b85a",
   "metadata": {},
   "outputs": [
    {
     "name": "stdout",
     "output_type": "stream",
     "text": [
      "keep up the good work, Saima\n",
      "keep up the good work, Keerti\n",
      "keep up the good work, Naveen\n",
      "keep up the good work, Kalyan\n",
      "keep up the good work, Anusha\n",
      "keep up the good work, Bushra\n"
     ]
    }
   ],
   "source": [
    "for x in students:\n",
    "    print(f\"keep up the good work, {x.title()}\")"
   ]
  },
  {
   "cell_type": "code",
   "execution_count": 39,
   "id": "116f6970-21a3-4b73-b8bd-cd3be33e0560",
   "metadata": {},
   "outputs": [
    {
     "name": "stdout",
     "output_type": "stream",
     "text": [
      "keep up the good work, Saima\n",
      "Do submit your work today without fail, Saima\n",
      "keep up the good work, Keerti\n",
      "Do submit your work today without fail, Keerti\n",
      "keep up the good work, Naveen\n",
      "Do submit your work today without fail, Naveen\n",
      "keep up the good work, Kalyan\n",
      "Do submit your work today without fail, Kalyan\n",
      "keep up the good work, Anusha\n",
      "Do submit your work today without fail, Anusha\n",
      "keep up the good work, Bushra\n",
      "Do submit your work today without fail, Bushra\n"
     ]
    }
   ],
   "source": [
    "for x in students:\n",
    "\n",
    " print(f\"keep up the good work, {x.title()}\")\n",
    " print(f\"Do submit your work today without fail, {x.title()}\")"
   ]
  },
  {
   "cell_type": "code",
   "execution_count": null,
   "id": "c09c43f1-554e-4bc0-9a90-6a8f45fadf5b",
   "metadata": {},
   "outputs": [],
   "source": []
  },
  {
   "cell_type": "code",
   "execution_count": 31,
   "id": "e613ae7b-207b-4999-bb0a-9b7c61e991ee",
   "metadata": {},
   "outputs": [
    {
     "ename": "IndentationError",
     "evalue": "expected an indented block after 'for' statement on line 1 (2928418730.py, line 2)",
     "output_type": "error",
     "traceback": [
      "\u001b[1;36m  Cell \u001b[1;32mIn[31], line 2\u001b[1;36m\u001b[0m\n\u001b[1;33m    print(x)\u001b[0m\n\u001b[1;37m    ^\u001b[0m\n\u001b[1;31mIndentationError\u001b[0m\u001b[1;31m:\u001b[0m expected an indented block after 'for' statement on line 1\n"
     ]
    }
   ],
   "source": [
    "for x in students:  #if gap is removed we will get this error\n",
    "print(x)"
   ]
  },
  {
   "cell_type": "code",
   "execution_count": null,
   "id": "1c27bc74-41b6-4513-8fc4-4022a1780d00",
   "metadata": {},
   "outputs": [],
   "source": []
  },
  {
   "cell_type": "code",
   "execution_count": 45,
   "id": "763fd9a4-ec16-4eea-885f-85de34ba862e",
   "metadata": {},
   "outputs": [
    {
     "name": "stdout",
     "output_type": "stream",
     "text": [
      "keep up the good work, Saima\n",
      "Do submit your work today without fail, Saima\n",
      "\n",
      "Thank You All For Joining The Session\n",
      "keep up the good work, Keerti\n",
      "Do submit your work today without fail, Keerti\n",
      "\n",
      "Thank You All For Joining The Session\n",
      "keep up the good work, Naveen\n",
      "Do submit your work today without fail, Naveen\n",
      "\n",
      "Thank You All For Joining The Session\n",
      "keep up the good work, Kalyan\n",
      "Do submit your work today without fail, Kalyan\n",
      "\n",
      "Thank You All For Joining The Session\n",
      "keep up the good work, Anusha\n",
      "Do submit your work today without fail, Anusha\n",
      "\n",
      "Thank You All For Joining The Session\n",
      "keep up the good work, Bushra\n",
      "Do submit your work today without fail, Bushra\n",
      "\n",
      "Thank You All For Joining The Session\n"
     ]
    }
   ],
   "source": [
    "for x in students:\n",
    "\n",
    "    print(f\"keep up the good work, {x.title()}\") # writing in the loop ------> it will be applied to all the element in the list \n",
    "    print(f\"Do submit your work today without fail, {x.title()}\\n\")\n",
    "    print(\"thank you all for joining the session\".title()) #it is getting executed only  one time----->called as writing out of the loop"
   ]
  },
  {
   "cell_type": "code",
   "execution_count": null,
   "id": "17176687-440b-4a5c-a5c5-1b56da9c9881",
   "metadata": {},
   "outputs": [],
   "source": []
  },
  {
   "cell_type": "code",
   "execution_count": null,
   "id": "5ac918e4-cf40-4e26-9e81-3336ae8f78fb",
   "metadata": {},
   "outputs": [],
   "source": []
  },
  {
   "cell_type": "code",
   "execution_count": null,
   "id": "f5a50e64-a278-499c-b1b7-3788de21e460",
   "metadata": {},
   "outputs": [],
   "source": []
  },
  {
   "cell_type": "code",
   "execution_count": null,
   "id": "110acf0e-db64-444f-ab34-0f280e71ae89",
   "metadata": {},
   "outputs": [],
   "source": []
  },
  {
   "cell_type": "code",
   "execution_count": null,
   "id": "ebc1ed67-973b-4e0d-90fb-e6cbd038a962",
   "metadata": {},
   "outputs": [],
   "source": []
  },
  {
   "cell_type": "code",
   "execution_count": null,
   "id": "ab6feabc-d6aa-448d-8b95-2ac5d5e6a5e4",
   "metadata": {},
   "outputs": [],
   "source": []
  },
  {
   "cell_type": "code",
   "execution_count": null,
   "id": "dbe47a81-a489-40d4-8c56-9d49fc76cc57",
   "metadata": {},
   "outputs": [],
   "source": []
  },
  {
   "cell_type": "code",
   "execution_count": null,
   "id": "44b31358-121a-4e2c-a29a-92c088b7cf90",
   "metadata": {},
   "outputs": [],
   "source": []
  },
  {
   "cell_type": "code",
   "execution_count": null,
   "id": "21c71dd6-6656-4866-a16d-d2d1a338744e",
   "metadata": {},
   "outputs": [],
   "source": []
  },
  {
   "cell_type": "code",
   "execution_count": null,
   "id": "4844100a-77ab-413c-9de0-3c928432fb7b",
   "metadata": {},
   "outputs": [],
   "source": []
  },
  {
   "cell_type": "code",
   "execution_count": null,
   "id": "42573100-995e-4abb-80a4-5d9e359f78c9",
   "metadata": {},
   "outputs": [],
   "source": []
  },
  {
   "cell_type": "code",
   "execution_count": null,
   "id": "b46770f7-3c13-4481-8a7e-463e20ee6027",
   "metadata": {},
   "outputs": [],
   "source": []
  },
  {
   "cell_type": "code",
   "execution_count": null,
   "id": "4c0ea469-bd90-4729-acb5-e60c9930a2ce",
   "metadata": {},
   "outputs": [],
   "source": []
  },
  {
   "cell_type": "code",
   "execution_count": null,
   "id": "d469399e-c30d-47f1-99b4-bb0ac0576d6f",
   "metadata": {},
   "outputs": [],
   "source": []
  },
  {
   "cell_type": "code",
   "execution_count": null,
   "id": "99423443-443d-4063-9826-3937f020683c",
   "metadata": {},
   "outputs": [],
   "source": []
  },
  {
   "cell_type": "code",
   "execution_count": null,
   "id": "42b01c71-eb0c-48ca-a85e-884e74b693f0",
   "metadata": {},
   "outputs": [],
   "source": []
  },
  {
   "cell_type": "code",
   "execution_count": null,
   "id": "1fd64ad1-098b-42f0-a54e-768ad1c8bf9d",
   "metadata": {},
   "outputs": [],
   "source": []
  },
  {
   "cell_type": "code",
   "execution_count": null,
   "id": "f8a726de-6c63-4aef-9c45-f0f629eaa85b",
   "metadata": {},
   "outputs": [],
   "source": []
  },
  {
   "cell_type": "code",
   "execution_count": null,
   "id": "8e8bdb18-daff-44da-bf36-18d521a0b578",
   "metadata": {},
   "outputs": [],
   "source": []
  },
  {
   "cell_type": "code",
   "execution_count": null,
   "id": "d47d27c1-5b23-48c2-a81f-d50f16b0a6fe",
   "metadata": {},
   "outputs": [],
   "source": []
  },
  {
   "cell_type": "code",
   "execution_count": null,
   "id": "c3de4a85-879f-45dc-94ca-ac8433910ccd",
   "metadata": {},
   "outputs": [],
   "source": []
  },
  {
   "cell_type": "code",
   "execution_count": null,
   "id": "79fbc978-c8d4-44eb-bec1-43384ccf839e",
   "metadata": {},
   "outputs": [],
   "source": []
  },
  {
   "cell_type": "code",
   "execution_count": null,
   "id": "ecdeb541-6dfe-48fb-887f-5384bd9822e2",
   "metadata": {},
   "outputs": [],
   "source": []
  },
  {
   "cell_type": "code",
   "execution_count": null,
   "id": "3051897d-91c9-4319-97a7-e789dec1ee24",
   "metadata": {},
   "outputs": [],
   "source": []
  },
  {
   "cell_type": "code",
   "execution_count": null,
   "id": "9cd36fb8-87a0-4aea-a8b0-72cbcb318694",
   "metadata": {},
   "outputs": [],
   "source": []
  },
  {
   "cell_type": "code",
   "execution_count": null,
   "id": "395cc3bb-1df2-462a-a492-c549cb7fccf3",
   "metadata": {},
   "outputs": [],
   "source": []
  },
  {
   "cell_type": "code",
   "execution_count": null,
   "id": "821c5710-d273-4511-8fae-22278fb759ab",
   "metadata": {},
   "outputs": [],
   "source": []
  },
  {
   "cell_type": "code",
   "execution_count": null,
   "id": "c8a64a9a-1638-46f3-8d45-1e401050fce9",
   "metadata": {},
   "outputs": [],
   "source": []
  },
  {
   "cell_type": "code",
   "execution_count": null,
   "id": "9ac1ba3b-56be-4ee2-988a-3f13df904a59",
   "metadata": {},
   "outputs": [],
   "source": []
  },
  {
   "cell_type": "code",
   "execution_count": null,
   "id": "eede9c6b-182c-40c9-ba7e-d92c0a0df606",
   "metadata": {},
   "outputs": [],
   "source": []
  },
  {
   "cell_type": "code",
   "execution_count": null,
   "id": "0f913774-1603-45b0-b4a1-b7bb77a49284",
   "metadata": {},
   "outputs": [],
   "source": []
  },
  {
   "cell_type": "code",
   "execution_count": null,
   "id": "eb068453-45c8-4217-95d6-52f8e1c076ec",
   "metadata": {},
   "outputs": [],
   "source": []
  },
  {
   "cell_type": "code",
   "execution_count": null,
   "id": "ac04cc80-c7f6-48cb-8d29-a95869545844",
   "metadata": {},
   "outputs": [],
   "source": []
  },
  {
   "cell_type": "code",
   "execution_count": null,
   "id": "3d4edefe-27e4-4df1-a95b-bd40f2ec791f",
   "metadata": {},
   "outputs": [],
   "source": []
  },
  {
   "cell_type": "code",
   "execution_count": null,
   "id": "680315b3-e798-4143-9482-eebcc586b6c2",
   "metadata": {},
   "outputs": [],
   "source": []
  },
  {
   "cell_type": "code",
   "execution_count": null,
   "id": "84670988-3c27-406f-a61e-8fb1e74d9396",
   "metadata": {},
   "outputs": [],
   "source": []
  },
  {
   "cell_type": "code",
   "execution_count": null,
   "id": "aa5432d1-a0ee-4bfa-b8b5-95c6b98fa772",
   "metadata": {},
   "outputs": [],
   "source": []
  },
  {
   "cell_type": "code",
   "execution_count": null,
   "id": "8fe3db93-9746-4c28-8c9d-8de448812e55",
   "metadata": {},
   "outputs": [],
   "source": []
  },
  {
   "cell_type": "code",
   "execution_count": null,
   "id": "e1714024-f860-49ef-b604-01e516d42ff4",
   "metadata": {},
   "outputs": [],
   "source": []
  },
  {
   "cell_type": "code",
   "execution_count": null,
   "id": "e798b50f-1a1b-4d97-84c6-d0164f4aad64",
   "metadata": {},
   "outputs": [],
   "source": []
  },
  {
   "cell_type": "code",
   "execution_count": null,
   "id": "8f11c8bf-c36a-4524-9900-98bb81bee8b4",
   "metadata": {},
   "outputs": [],
   "source": []
  },
  {
   "cell_type": "code",
   "execution_count": null,
   "id": "2299bc86-3c52-4823-a65c-9dd3e795f59b",
   "metadata": {},
   "outputs": [],
   "source": []
  },
  {
   "cell_type": "code",
   "execution_count": null,
   "id": "3b4e7271-413c-48ca-b9d9-d256b9f091ed",
   "metadata": {},
   "outputs": [],
   "source": []
  },
  {
   "cell_type": "code",
   "execution_count": null,
   "id": "362ef38c-f793-45ed-ba72-37f55fc99055",
   "metadata": {},
   "outputs": [],
   "source": []
  },
  {
   "cell_type": "code",
   "execution_count": null,
   "id": "2dcfdb46-084d-46d6-9cf0-4366450766ea",
   "metadata": {},
   "outputs": [],
   "source": []
  },
  {
   "cell_type": "code",
   "execution_count": null,
   "id": "336e4924-8277-49e9-9884-7e9eacba6a92",
   "metadata": {},
   "outputs": [],
   "source": []
  },
  {
   "cell_type": "code",
   "execution_count": null,
   "id": "01288d76-4538-45eb-9537-498aebe42ab4",
   "metadata": {},
   "outputs": [],
   "source": []
  },
  {
   "cell_type": "code",
   "execution_count": null,
   "id": "d1e3996c-a50a-42a2-bfe8-5c27a8b25bfd",
   "metadata": {},
   "outputs": [],
   "source": []
  },
  {
   "cell_type": "code",
   "execution_count": null,
   "id": "654b8752-a105-4ac7-8edb-7575f93ab6df",
   "metadata": {},
   "outputs": [],
   "source": []
  },
  {
   "cell_type": "code",
   "execution_count": null,
   "id": "f1838789-b260-4058-b02c-4d80807d4690",
   "metadata": {},
   "outputs": [],
   "source": []
  },
  {
   "cell_type": "code",
   "execution_count": null,
   "id": "c50db979-f99d-448c-8a0b-c6eb1715fd2b",
   "metadata": {},
   "outputs": [],
   "source": []
  },
  {
   "cell_type": "code",
   "execution_count": null,
   "id": "acdfbf84-c4f1-4dec-80e1-17753b1651b1",
   "metadata": {},
   "outputs": [],
   "source": []
  },
  {
   "cell_type": "code",
   "execution_count": null,
   "id": "b6da5ca1-4db6-4eec-b204-173b0e3f120f",
   "metadata": {},
   "outputs": [],
   "source": []
  },
  {
   "cell_type": "code",
   "execution_count": null,
   "id": "a2f86f48-77e6-46e1-8eee-3a4c4ac3e6c0",
   "metadata": {},
   "outputs": [],
   "source": []
  },
  {
   "cell_type": "code",
   "execution_count": null,
   "id": "056baba4-44a7-44cc-839e-0e5b116fdae7",
   "metadata": {},
   "outputs": [],
   "source": []
  },
  {
   "cell_type": "code",
   "execution_count": null,
   "id": "f3735e9f-1e79-4bf5-9be7-7717471053b6",
   "metadata": {},
   "outputs": [],
   "source": []
  },
  {
   "cell_type": "code",
   "execution_count": null,
   "id": "2dcfee5e-a5c6-4a3b-a132-98dc21cce969",
   "metadata": {},
   "outputs": [],
   "source": []
  },
  {
   "cell_type": "code",
   "execution_count": null,
   "id": "fb8614e0-f813-4231-9eef-af545c804b1f",
   "metadata": {},
   "outputs": [],
   "source": []
  },
  {
   "cell_type": "code",
   "execution_count": null,
   "id": "35499669-a303-4645-aad2-997f54b13818",
   "metadata": {},
   "outputs": [],
   "source": []
  },
  {
   "cell_type": "code",
   "execution_count": null,
   "id": "08c92ca9-1271-44a9-a219-331157a3a788",
   "metadata": {},
   "outputs": [],
   "source": []
  },
  {
   "cell_type": "code",
   "execution_count": null,
   "id": "345394b3-0336-4697-853d-64f786b78f21",
   "metadata": {},
   "outputs": [],
   "source": []
  },
  {
   "cell_type": "code",
   "execution_count": null,
   "id": "9f529cba-bd04-47a5-a2d5-82570bcb05cb",
   "metadata": {},
   "outputs": [],
   "source": []
  },
  {
   "cell_type": "code",
   "execution_count": null,
   "id": "cf8a82fb-e42a-4415-a752-8dcdd316aabb",
   "metadata": {},
   "outputs": [],
   "source": []
  },
  {
   "cell_type": "code",
   "execution_count": null,
   "id": "4d3c3ba5-3adb-4704-bafb-a4b7dc8db2cb",
   "metadata": {},
   "outputs": [],
   "source": []
  },
  {
   "cell_type": "code",
   "execution_count": null,
   "id": "a2747974-ead2-4da4-bcc1-813918ae018b",
   "metadata": {},
   "outputs": [],
   "source": []
  },
  {
   "cell_type": "code",
   "execution_count": null,
   "id": "2fc24aed-a468-43f8-9f4f-d7aa1315d533",
   "metadata": {},
   "outputs": [],
   "source": []
  },
  {
   "cell_type": "code",
   "execution_count": null,
   "id": "f4db7a64-5474-4b02-89d1-1cedfeb28cb9",
   "metadata": {},
   "outputs": [],
   "source": []
  },
  {
   "cell_type": "code",
   "execution_count": null,
   "id": "9e497c54-f8d4-45a6-9764-bfd74a2cb32a",
   "metadata": {},
   "outputs": [],
   "source": []
  },
  {
   "cell_type": "code",
   "execution_count": null,
   "id": "1fd23b8b-cd09-4c55-a463-d2bab11d3cbf",
   "metadata": {},
   "outputs": [],
   "source": []
  },
  {
   "cell_type": "code",
   "execution_count": null,
   "id": "88b51383-d158-4b26-895f-27b818bcb6f6",
   "metadata": {},
   "outputs": [],
   "source": []
  },
  {
   "cell_type": "code",
   "execution_count": null,
   "id": "b86672e8-34e1-4002-8b3f-bd9daf0eb5c4",
   "metadata": {},
   "outputs": [],
   "source": []
  }
 ],
 "metadata": {
  "kernelspec": {
   "display_name": "Python 3 (ipykernel)",
   "language": "python",
   "name": "python3"
  },
  "language_info": {
   "codemirror_mode": {
    "name": "ipython",
    "version": 3
   },
   "file_extension": ".py",
   "mimetype": "text/x-python",
   "name": "python",
   "nbconvert_exporter": "python",
   "pygments_lexer": "ipython3",
   "version": "3.12.4"
  }
 },
 "nbformat": 4,
 "nbformat_minor": 5
}
