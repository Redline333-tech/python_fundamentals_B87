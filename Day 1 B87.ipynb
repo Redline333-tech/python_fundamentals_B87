{
 "cells": [
  {
   "cell_type": "code",
   "execution_count": 1,
   "id": "6ad348b3-56d4-463e-a2c6-a4c847c58f7f",
   "metadata": {},
   "outputs": [
    {
     "name": "stdout",
     "output_type": "stream",
     "text": [
      "Hello World just a Python code\n"
     ]
    }
   ],
   "source": [
    "print (\"Hello World just a Python code\")"
   ]
  },
  {
   "cell_type": "code",
   "execution_count": null,
   "id": "376ae3e6-1941-4173-8614-cbd8c9e3048b",
   "metadata": {},
   "outputs": [],
   "source": [
    "# Rule no.1:- no space between a variable"
   ]
  },
  {
   "cell_type": "code",
   "execution_count": 3,
   "id": "41f9d2e6-f4a9-48de-a35a-341d472286d2",
   "metadata": {},
   "outputs": [
    {
     "name": "stdout",
     "output_type": "stream",
     "text": [
      "Eshan\n"
     ]
    }
   ],
   "source": [
    "firstname = \"Eshan\"\n",
    "\n",
    "print (firstname)"
   ]
  },
  {
   "cell_type": "code",
   "execution_count": null,
   "id": "f932c306-51d7-466d-9e26-f7ac34174d18",
   "metadata": {},
   "outputs": [],
   "source": [
    "Rule no.2"
   ]
  },
  {
   "cell_type": "code",
   "execution_count": 4,
   "id": "1dad4c17-3fdb-4889-aafa-eee90d03a0fa",
   "metadata": {},
   "outputs": [
    {
     "name": "stdout",
     "output_type": "stream",
     "text": [
      "Eshan\n"
     ]
    }
   ],
   "source": [
    "name1 = \"Eshan\"\n",
    "\n",
    "print (name1)"
   ]
  },
  {
   "cell_type": "code",
   "execution_count": null,
   "id": "0dc8f04d-0b8a-47df-aefc-ae1e3b802306",
   "metadata": {},
   "outputs": [],
   "source": []
  },
  {
   "cell_type": "code",
   "execution_count": null,
   "id": "0419bd2f-4944-49b9-a729-5c822348fa17",
   "metadata": {},
   "outputs": [],
   "source": []
  },
  {
   "cell_type": "code",
   "execution_count": null,
   "id": "89e8fabb-36fc-4419-b6b8-5263d67be4d2",
   "metadata": {},
   "outputs": [],
   "source": []
  },
  {
   "cell_type": "code",
   "execution_count": null,
   "id": "4ef31ce6-7ebc-44ee-819b-6bad86f3d655",
   "metadata": {},
   "outputs": [],
   "source": []
  },
  {
   "cell_type": "code",
   "execution_count": null,
   "id": "9c98827b-f082-407c-8caf-1802e0227675",
   "metadata": {},
   "outputs": [],
   "source": []
  }
 ],
 "metadata": {
  "kernelspec": {
   "display_name": "Python 3 (ipykernel)",
   "language": "python",
   "name": "python3"
  },
  "language_info": {
   "codemirror_mode": {
    "name": "ipython",
    "version": 3
   },
   "file_extension": ".py",
   "mimetype": "text/x-python",
   "name": "python",
   "nbconvert_exporter": "python",
   "pygments_lexer": "ipython3",
   "version": "3.12.4"
  }
 },
 "nbformat": 4,
 "nbformat_minor": 5
}
