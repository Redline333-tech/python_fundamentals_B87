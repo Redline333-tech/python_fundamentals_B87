{
 "cells": [
  {
   "cell_type": "code",
   "execution_count": null,
   "id": "e534e384-1760-4421-8323-2949b3e3fcbf",
   "metadata": {},
   "outputs": [],
   "source": [
    "Introduction to list datatype\n",
    "\n",
    "Defination: a list is a collection of items declared in a particular order\n",
    "\n",
    "classification: it is classified as an mutable datatype\n",
    "\n",
    "How to declare a list -----> [ ]"
   ]
  },
  {
   "cell_type": "code",
   "execution_count": null,
   "id": "6e6a7a41-b66a-4e9b-983e-7a30fdf194dc",
   "metadata": {},
   "outputs": [],
   "source": []
  },
  {
   "cell_type": "code",
   "execution_count": 3,
   "id": "c7921ef5-1165-4260-940e-033ca0ce7d2c",
   "metadata": {},
   "outputs": [
    {
     "name": "stdout",
     "output_type": "stream",
     "text": [
      "['saima', 'keerti', 'naveen', 'Kalyan']\n"
     ]
    }
   ],
   "source": [
    "students = ['saima','keerti', 'naveen','Kalyan']\n",
    "\n",
    "print(students)"
   ]
  },
  {
   "cell_type": "code",
   "execution_count": 5,
   "id": "f2e50f6f-4410-407c-9277-db3ac253ddbc",
   "metadata": {},
   "outputs": [
    {
     "data": {
      "text/plain": [
       "list"
      ]
     },
     "execution_count": 5,
     "metadata": {},
     "output_type": "execute_result"
    }
   ],
   "source": [
    "type(students)"
   ]
  },
  {
   "cell_type": "code",
   "execution_count": null,
   "id": "dc914251-965c-4990-bad6-c8404d7f4846",
   "metadata": {},
   "outputs": [],
   "source": [
    "Introduction to indexation: 0,1,2,3,.......n\n"
   ]
  },
  {
   "cell_type": "code",
   "execution_count": 9,
   "id": "d04a6872-409d-4b02-8bcf-144792270d7c",
   "metadata": {},
   "outputs": [
    {
     "name": "stdout",
     "output_type": "stream",
     "text": [
      "Keerti\n"
     ]
    }
   ],
   "source": [
    "print(students[1].title())"
   ]
  },
  {
   "cell_type": "code",
   "execution_count": 11,
   "id": "6d5b069e-d8c8-41e9-9abe-e030f6c4fd4c",
   "metadata": {},
   "outputs": [
    {
     "name": "stdout",
     "output_type": "stream",
     "text": [
      "Kalyan\n"
     ]
    }
   ],
   "source": [
    "print(students[3].title())"
   ]
  },
  {
   "cell_type": "code",
   "execution_count": 17,
   "id": "93ad5b86-859c-4f97-b25a-11b76589bd57",
   "metadata": {},
   "outputs": [
    {
     "name": "stdout",
     "output_type": "stream",
     "text": [
      "['saima', 'keerti', 'naveen', 'Kalyan', 'adil', 'adil']\n"
     ]
    }
   ],
   "source": [
    "students.append('adil')\n",
    "print(students)"
   ]
  },
  {
   "cell_type": "code",
   "execution_count": 32,
   "id": "48fccfee-fb73-4053-8c8a-71f87b6cf333",
   "metadata": {},
   "outputs": [
    {
     "name": "stdout",
     "output_type": "stream",
     "text": [
      "['saima', 'kiran', 'Akash', 'naveen', 'Kalyan', 'adil', 'adil', 'Suresh', 'Suresh', 'Suresh', 'Suresh']\n"
     ]
    }
   ],
   "source": [
    "students.append('Suresh')\n",
    "\n",
    "print(students)"
   ]
  },
  {
   "cell_type": "code",
   "execution_count": 23,
   "id": "dc165dbd-0c21-494d-a5a2-5f86b108732a",
   "metadata": {},
   "outputs": [],
   "source": [
    "students.insert(2,'Akash')"
   ]
  },
  {
   "cell_type": "code",
   "execution_count": 25,
   "id": "a26b5eeb-676d-484b-aef7-4fd802f4673d",
   "metadata": {},
   "outputs": [
    {
     "name": "stdout",
     "output_type": "stream",
     "text": [
      "['saima', 'keerti', 'Akash', 'naveen', 'Kalyan', 'adil', 'adil', 'Suresh', 'Suresh']\n"
     ]
    }
   ],
   "source": [
    "print(students)"
   ]
  },
  {
   "cell_type": "code",
   "execution_count": null,
   "id": "215da694-f035-48f8-820f-8bfa20a6a87e",
   "metadata": {},
   "outputs": [],
   "source": []
  },
  {
   "cell_type": "code",
   "execution_count": null,
   "id": "685cf706-8799-43cd-b0a8-21f2f7c3e518",
   "metadata": {},
   "outputs": [],
   "source": [
    "interview question:- what is the difference between append method and insert method in a list datatype...can you please explain?"
   ]
  },
  {
   "cell_type": "code",
   "execution_count": null,
   "id": "9ee93713-1fe5-405c-a815-a428b543844a",
   "metadata": {},
   "outputs": [],
   "source": [
    "\n"
   ]
  },
  {
   "cell_type": "code",
   "execution_count": 28,
   "id": "e21d8ee1-2145-4380-a3f9-18c40310599c",
   "metadata": {},
   "outputs": [
    {
     "name": "stdout",
     "output_type": "stream",
     "text": [
      "['saima', 'kiran', 'Akash', 'naveen', 'Kalyan', 'adil', 'adil', 'Suresh', 'Suresh']\n"
     ]
    }
   ],
   "source": [
    "students[1] = 'kiran'\n",
    "\n",
    "print(students)"
   ]
  },
  {
   "cell_type": "code",
   "execution_count": 34,
   "id": "45af93ac-c34e-4fd0-a281-f3a7595537fd",
   "metadata": {},
   "outputs": [
    {
     "name": "stdout",
     "output_type": "stream",
     "text": [
      "['saima', 'kiran', 'Akash', 'naveen', 'Kalyan', 'adil', 'Suresh', 'Suresh', 'Suresh', 'Suresh']\n"
     ]
    }
   ],
   "source": [
    "del students[5]\n",
    "\n",
    "print (students)"
   ]
  },
  {
   "cell_type": "code",
   "execution_count": 38,
   "id": "c9a7f2d2-d448-48ef-bdca-e5f0d9c70701",
   "metadata": {},
   "outputs": [
    {
     "name": "stdout",
     "output_type": "stream",
     "text": [
      "['saima', 'kiran', 'Akash', 'naveen', 'Kalyan', 'adil', 'Suresh', 'Suresh', 'Suresh']\n"
     ]
    }
   ],
   "source": [
    "del students [6]\n",
    "print(students)"
   ]
  },
  {
   "cell_type": "code",
   "execution_count": 40,
   "id": "c734dd6c-74cc-47ed-9cfd-3d7fb1eff449",
   "metadata": {},
   "outputs": [
    {
     "name": "stdout",
     "output_type": "stream",
     "text": [
      "['saima', 'kiran', 'Akash', 'naveen', 'Kalyan', 'adil', 'Suresh', 'Suresh']\n"
     ]
    }
   ],
   "source": [
    "del students [6]\n",
    "print(students)"
   ]
  },
  {
   "cell_type": "code",
   "execution_count": 42,
   "id": "4453ac83-2d1f-4488-87c4-9bf5667b3e5e",
   "metadata": {},
   "outputs": [
    {
     "name": "stdout",
     "output_type": "stream",
     "text": [
      "['saima', 'kiran', 'Akash', 'naveen', 'Kalyan', 'adil', 'Suresh']\n"
     ]
    }
   ],
   "source": [
    "del students [6]\n",
    "print(students)"
   ]
  },
  {
   "cell_type": "code",
   "execution_count": null,
   "id": "6d2442a2-23fe-4da9-a9fc-d4216bca8cef",
   "metadata": {},
   "outputs": [],
   "source": []
  },
  {
   "cell_type": "code",
   "execution_count": 46,
   "id": "70b99a27-e17c-4fb0-8bcc-08f3da6afded",
   "metadata": {},
   "outputs": [
    {
     "ename": "SyntaxError",
     "evalue": "invalid syntax (393097831.py, line 1)",
     "output_type": "error",
     "traceback": [
      "\u001b[1;36m  Cell \u001b[1;32mIn[46], line 1\u001b[1;36m\u001b[0m\n\u001b[1;33m    Zen of python :\u001b[0m\n\u001b[1;37m        ^\u001b[0m\n\u001b[1;31mSyntaxError\u001b[0m\u001b[1;31m:\u001b[0m invalid syntax\n"
     ]
    }
   ],
   "source": [
    "Zen of python :\n",
    "\n",
    "import this"
   ]
  },
  {
   "cell_type": "code",
   "execution_count": 48,
   "id": "152ef531-5451-4bcd-82dd-48fb8e28a91d",
   "metadata": {},
   "outputs": [
    {
     "name": "stdout",
     "output_type": "stream",
     "text": [
      "The Zen of Python, by Tim Peters\n",
      "\n",
      "Beautiful is better than ugly.\n",
      "Explicit is better than implicit.\n",
      "Simple is better than complex.\n",
      "Complex is better than complicated.\n",
      "Flat is better than nested.\n",
      "Sparse is better than dense.\n",
      "Readability counts.\n",
      "Special cases aren't special enough to break the rules.\n",
      "Although practicality beats purity.\n",
      "Errors should never pass silently.\n",
      "Unless explicitly silenced.\n",
      "In the face of ambiguity, refuse the temptation to guess.\n",
      "There should be one-- and preferably only one --obvious way to do it.\n",
      "Although that way may not be obvious at first unless you're Dutch.\n",
      "Now is better than never.\n",
      "Although never is often better than *right* now.\n",
      "If the implementation is hard to explain, it's a bad idea.\n",
      "If the implementation is easy to explain, it may be a good idea.\n",
      "Namespaces are one honking great idea -- let's do more of those!\n"
     ]
    }
   ],
   "source": [
    "import this"
   ]
  },
  {
   "cell_type": "code",
   "execution_count": null,
   "id": "fee2db94-c00d-429f-874b-7d67a8ae768b",
   "metadata": {},
   "outputs": [],
   "source": []
  },
  {
   "cell_type": "code",
   "execution_count": null,
   "id": "731cb84d-edf9-478a-9dd7-bf8c93f457d9",
   "metadata": {},
   "outputs": [],
   "source": []
  },
  {
   "cell_type": "code",
   "execution_count": null,
   "id": "cf08d24d-3c7f-4cad-a331-a0ae16caddee",
   "metadata": {},
   "outputs": [],
   "source": []
  },
  {
   "cell_type": "code",
   "execution_count": null,
   "id": "b4974ae0-88e0-41be-a529-6b3b8fb5dce9",
   "metadata": {},
   "outputs": [],
   "source": []
  },
  {
   "cell_type": "code",
   "execution_count": null,
   "id": "cb934846-2164-4680-8b0b-4c3f7ee9de9c",
   "metadata": {},
   "outputs": [],
   "source": []
  },
  {
   "cell_type": "code",
   "execution_count": null,
   "id": "a83d4f1a-d2ae-4561-be09-b4e98127c927",
   "metadata": {},
   "outputs": [],
   "source": []
  },
  {
   "cell_type": "code",
   "execution_count": null,
   "id": "32967dea-b6b6-4d1c-9233-36b26855ce00",
   "metadata": {},
   "outputs": [],
   "source": []
  },
  {
   "cell_type": "code",
   "execution_count": null,
   "id": "9ce69950-19f5-42bc-a98d-5421b15b6225",
   "metadata": {},
   "outputs": [],
   "source": []
  },
  {
   "cell_type": "code",
   "execution_count": null,
   "id": "bf7650aa-c75f-4fdf-8716-f1efa4081ec5",
   "metadata": {},
   "outputs": [],
   "source": []
  },
  {
   "cell_type": "code",
   "execution_count": null,
   "id": "0351b4a6-f0d2-49bc-91e0-2b596dccdfbb",
   "metadata": {},
   "outputs": [],
   "source": []
  },
  {
   "cell_type": "code",
   "execution_count": null,
   "id": "318e0731-1708-4b92-ba92-f316e8c209b2",
   "metadata": {},
   "outputs": [],
   "source": []
  },
  {
   "cell_type": "code",
   "execution_count": null,
   "id": "2da44c95-85e8-497c-a72c-894d07c15bb6",
   "metadata": {},
   "outputs": [],
   "source": []
  },
  {
   "cell_type": "code",
   "execution_count": null,
   "id": "a28bcf7d-91e5-42b3-a20b-2f9429fdc08d",
   "metadata": {},
   "outputs": [],
   "source": []
  },
  {
   "cell_type": "code",
   "execution_count": null,
   "id": "e92f6ea5-598b-4c5e-b73e-38c735b197ca",
   "metadata": {},
   "outputs": [],
   "source": []
  },
  {
   "cell_type": "code",
   "execution_count": null,
   "id": "a933114e-1412-40a8-86ed-9446eba95527",
   "metadata": {},
   "outputs": [],
   "source": []
  },
  {
   "cell_type": "code",
   "execution_count": null,
   "id": "dc5953b8-1bc0-4944-84e3-4fa5e62019e6",
   "metadata": {},
   "outputs": [],
   "source": []
  }
 ],
 "metadata": {
  "kernelspec": {
   "display_name": "Python 3 (ipykernel)",
   "language": "python",
   "name": "python3"
  },
  "language_info": {
   "codemirror_mode": {
    "name": "ipython",
    "version": 3
   },
   "file_extension": ".py",
   "mimetype": "text/x-python",
   "name": "python",
   "nbconvert_exporter": "python",
   "pygments_lexer": "ipython3",
   "version": "3.12.4"
  }
 },
 "nbformat": 4,
 "nbformat_minor": 5
}
