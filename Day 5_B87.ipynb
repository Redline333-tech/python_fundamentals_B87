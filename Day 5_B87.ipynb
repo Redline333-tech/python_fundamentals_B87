{
 "cells": [
  {
   "cell_type": "code",
   "execution_count": null,
   "id": "ddf93070-509a-4fbc-9be8-7a8f33ce033a",
   "metadata": {},
   "outputs": [],
   "source": [
    "Continuation with list datatype:-"
   ]
  },
  {
   "cell_type": "code",
   "execution_count": null,
   "id": "c31189e5-c1ed-4c52-8473-ad3dc7a450e7",
   "metadata": {},
   "outputs": [],
   "source": [
    "organising the list datatype :-"
   ]
  },
  {
   "cell_type": "code",
   "execution_count": null,
   "id": "4b7001ad-28ae-4509-83f6-65fbcc4a5812",
   "metadata": {},
   "outputs": [],
   "source": []
  },
  {
   "cell_type": "code",
   "execution_count": 5,
   "id": "36a33384-b7c7-4680-bd17-a6efea2d9454",
   "metadata": {},
   "outputs": [
    {
     "name": "stdout",
     "output_type": "stream",
     "text": [
      "['benz', 'maruti', 'audi', 'suzuki', 'bmw', 'rollsroyce']\n"
     ]
    }
   ],
   "source": [
    "cars = ['benz','maruti','audi','suzuki','bmw','rollsroyce']\n",
    "\n",
    "print(cars)"
   ]
  },
  {
   "cell_type": "code",
   "execution_count": null,
   "id": "668c20e3-410d-41b7-8d6d-2aaa46ecb526",
   "metadata": {},
   "outputs": [],
   "source": []
  },
  {
   "cell_type": "code",
   "execution_count": null,
   "id": "e3f69988-7eeb-4026-8fbe-588f7caec0ce",
   "metadata": {},
   "outputs": [],
   "source": [
    "temporary approach ====== sorted method ====> we can have original list order maintained\n",
    "\n",
    "permanent approach ======= sort method ======> we will not have original order----changes are applied permanently"
   ]
  },
  {
   "cell_type": "code",
   "execution_count": 7,
   "id": "bda75fab-b344-4c34-bba4-a9611414c18f",
   "metadata": {},
   "outputs": [
    {
     "name": "stdout",
     "output_type": "stream",
     "text": [
      "['audi', 'benz', 'bmw', 'maruti', 'rollsroyce', 'suzuki']\n"
     ]
    }
   ],
   "source": [
    "print(sorted(cars)) #we are getting in alphabetical order"
   ]
  },
  {
   "cell_type": "code",
   "execution_count": 9,
   "id": "cfdbe27c-0a1f-477b-8675-41497fb85b6a",
   "metadata": {},
   "outputs": [
    {
     "name": "stdout",
     "output_type": "stream",
     "text": [
      "['benz', 'maruti', 'audi', 'suzuki', 'bmw', 'rollsroyce']\n"
     ]
    }
   ],
   "source": [
    "print(cars)  #we are not getting in alphabetical order"
   ]
  },
  {
   "cell_type": "code",
   "execution_count": null,
   "id": "003a0d2e-05aa-4951-8f6f-19865114fa7c",
   "metadata": {},
   "outputs": [],
   "source": []
  },
  {
   "cell_type": "code",
   "execution_count": 11,
   "id": "fc1a340b-ffb8-49b6-a9a3-60456c9d2a60",
   "metadata": {},
   "outputs": [
    {
     "name": "stdout",
     "output_type": "stream",
     "text": [
      "['audi', 'benz', 'bmw', 'maruti', 'rollsroyce', 'suzuki']\n"
     ]
    }
   ],
   "source": [
    "cars.sort()\n",
    "\n",
    "print(cars)"
   ]
  },
  {
   "cell_type": "code",
   "execution_count": 13,
   "id": "44c7612d-66f5-4cb3-8434-2d25f2e9eea7",
   "metadata": {},
   "outputs": [],
   "source": [
    "# interview question :- what is the difference between sorted and sort method  in the list datatype...?\n"
   ]
  },
  {
   "cell_type": "code",
   "execution_count": null,
   "id": "8ee5c055-bd56-4b56-bb19-a124cd46b01b",
   "metadata": {},
   "outputs": [],
   "source": []
  },
  {
   "cell_type": "code",
   "execution_count": null,
   "id": "1afab95f-0d48-4442-863f-440b706e8843",
   "metadata": {},
   "outputs": [],
   "source": []
  },
  {
   "cell_type": "code",
   "execution_count": null,
   "id": "36453da6-6af5-439e-ba60-7f3b7a04e413",
   "metadata": {},
   "outputs": [],
   "source": [
    "# to print list in reverse order (ie):- Z-A"
   ]
  },
  {
   "cell_type": "code",
   "execution_count": 23,
   "id": "24c9a70f-879c-4230-933c-9ecdfdc4a086",
   "metadata": {},
   "outputs": [
    {
     "name": "stdout",
     "output_type": "stream",
     "text": [
      "['suzuki', 'rollsroyce', 'maruti', 'bmw', 'benz', 'audi']\n"
     ]
    }
   ],
   "source": [
    "cars.reverse()\n",
    "\n",
    "print(cars)"
   ]
  },
  {
   "cell_type": "code",
   "execution_count": null,
   "id": "1ed0afab-c571-4cd1-b1a9-d42a7d5e2e9f",
   "metadata": {},
   "outputs": [],
   "source": []
  },
  {
   "cell_type": "code",
   "execution_count": 29,
   "id": "a108e7d1-c3f9-40a9-a8d1-2ce02874d69b",
   "metadata": {},
   "outputs": [],
   "source": [
    "# to know the total count of the elements"
   ]
  },
  {
   "cell_type": "code",
   "execution_count": null,
   "id": "9685f949-962e-4263-ace7-78f19f394c29",
   "metadata": {},
   "outputs": [],
   "source": []
  },
  {
   "cell_type": "code",
   "execution_count": 34,
   "id": "1926a0f7-38e4-4680-9fc8-34f51b9b21e6",
   "metadata": {},
   "outputs": [
    {
     "name": "stdout",
     "output_type": "stream",
     "text": [
      "['suzuki', 'rollsroyce', 'maruti', 'bmw', 'benz', 'audi']\n"
     ]
    }
   ],
   "source": [
    "len(cars)\n",
    "\n",
    "print(cars)"
   ]
  },
  {
   "cell_type": "code",
   "execution_count": 36,
   "id": "19f335ac-93e6-481e-ad86-dfb666556015",
   "metadata": {},
   "outputs": [
    {
     "data": {
      "text/plain": [
       "6"
      ]
     },
     "execution_count": 36,
     "metadata": {},
     "output_type": "execute_result"
    }
   ],
   "source": [
    "len (cars)"
   ]
  },
  {
   "cell_type": "code",
   "execution_count": null,
   "id": "5e9a7469-e4a5-4bbd-abe3-1795ceca910c",
   "metadata": {},
   "outputs": [],
   "source": []
  },
  {
   "cell_type": "code",
   "execution_count": null,
   "id": "318d734e-835e-4258-9b8f-7d697eac8f88",
   "metadata": {},
   "outputs": [],
   "source": [
    "slicing the list:-"
   ]
  },
  {
   "cell_type": "code",
   "execution_count": null,
   "id": "bf5b9a68-3cb4-401b-81eb-819862ccdbcf",
   "metadata": {},
   "outputs": [],
   "source": []
  },
  {
   "cell_type": "code",
   "execution_count": 46,
   "id": "4cde4572-df3c-4c85-95c9-dffa13825a12",
   "metadata": {},
   "outputs": [
    {
     "name": "stdout",
     "output_type": "stream",
     "text": [
      "['saima', 'keerti', 'naveen', 'Kalyan']\n"
     ]
    }
   ],
   "source": [
    "students = ['saima','keerti', 'naveen','Kalyan']\n",
    "\n",
    "\n",
    "print(students)"
   ]
  },
  {
   "cell_type": "code",
   "execution_count": null,
   "id": "f493de2b-d28b-43b8-bfdf-c802fd5315a0",
   "metadata": {},
   "outputs": [],
   "source": []
  },
  {
   "cell_type": "code",
   "execution_count": 48,
   "id": "3895349d-97dc-4101-ae7e-3f0a763c3029",
   "metadata": {},
   "outputs": [
    {
     "data": {
      "text/plain": [
       "list"
      ]
     },
     "execution_count": 48,
     "metadata": {},
     "output_type": "execute_result"
    }
   ],
   "source": [
    "type(students)"
   ]
  },
  {
   "cell_type": "code",
   "execution_count": null,
   "id": "ed0bef3b-cb7a-448d-90ad-728503a303a6",
   "metadata": {},
   "outputs": [],
   "source": [
    "#general syntax of slicing"
   ]
  },
  {
   "cell_type": "code",
   "execution_count": null,
   "id": "4023569d-f559-4305-99b5-85380c571867",
   "metadata": {},
   "outputs": [],
   "source": [
    "[start_value:stop_value:step_count]"
   ]
  },
  {
   "cell_type": "code",
   "execution_count": null,
   "id": "9b35300d-b7be-4ef6-bf11-c876fdbbed8f",
   "metadata": {},
   "outputs": [],
   "source": [
    "NOTE:- stop_value is always exclusive to include the stop value we have to increment the index by +1"
   ]
  },
  {
   "cell_type": "code",
   "execution_count": null,
   "id": "8b8ae266-8b9d-4b20-82b9-24ce5900c30f",
   "metadata": {},
   "outputs": [],
   "source": [
    "#requirement i want lets say saima and naveen in the op"
   ]
  },
  {
   "cell_type": "code",
   "execution_count": 52,
   "id": "00fd4745-50a2-4b8b-8d9b-028ef59d15f4",
   "metadata": {},
   "outputs": [
    {
     "name": "stdout",
     "output_type": "stream",
     "text": [
      "['saima']\n"
     ]
    }
   ],
   "source": [
    "print(students[0:1])"
   ]
  },
  {
   "cell_type": "code",
   "execution_count": 54,
   "id": "bf5b5992-4c58-4879-98a2-70794d87b2c7",
   "metadata": {},
   "outputs": [
    {
     "name": "stdout",
     "output_type": "stream",
     "text": [
      "['saima', 'keerti']\n"
     ]
    }
   ],
   "source": [
    "print(students[0:2]) # 1 + 1 = 2"
   ]
  },
  {
   "cell_type": "code",
   "execution_count": 56,
   "id": "939d8554-1dd1-46c9-a49d-db9ba4bbc25b",
   "metadata": {},
   "outputs": [
    {
     "name": "stdout",
     "output_type": "stream",
     "text": [
      "['naveen', 'Kalyan']\n"
     ]
    }
   ],
   "source": [
    "print(students[2:4])"
   ]
  },
  {
   "cell_type": "code",
   "execution_count": 70,
   "id": "f9333dbf-5d44-44d6-8f44-cd8b0e949bfa",
   "metadata": {},
   "outputs": [
    {
     "name": "stdout",
     "output_type": "stream",
     "text": [
      "['saima', 'Kalyan']\n"
     ]
    }
   ],
   "source": [
    "print(students[0:5:3])"
   ]
  },
  {
   "cell_type": "code",
   "execution_count": null,
   "id": "794714cd-4182-4b0b-ad91-3a282307f5c5",
   "metadata": {},
   "outputs": [],
   "source": []
  },
  {
   "cell_type": "code",
   "execution_count": null,
   "id": "83481d62-b59c-40f5-b64e-821d3684a8e9",
   "metadata": {},
   "outputs": [],
   "source": []
  },
  {
   "cell_type": "code",
   "execution_count": null,
   "id": "af32a877-92fe-4daf-bcf5-57f44b9feb6e",
   "metadata": {},
   "outputs": [],
   "source": []
  },
  {
   "cell_type": "code",
   "execution_count": null,
   "id": "08de07b1-a6f5-44b6-9934-e2fa862ac202",
   "metadata": {},
   "outputs": [],
   "source": []
  },
  {
   "cell_type": "code",
   "execution_count": null,
   "id": "e1df7317-b9f5-4b6b-872a-f3c68f922aeb",
   "metadata": {},
   "outputs": [],
   "source": []
  },
  {
   "cell_type": "code",
   "execution_count": null,
   "id": "e9b36cb4-e86e-4945-a4cb-afda29b455d5",
   "metadata": {},
   "outputs": [],
   "source": []
  },
  {
   "cell_type": "code",
   "execution_count": null,
   "id": "dc39c77a-b5a2-4056-a5d3-77df03f4b091",
   "metadata": {},
   "outputs": [],
   "source": []
  },
  {
   "cell_type": "code",
   "execution_count": null,
   "id": "00faaf7c-9f63-44ec-9d62-d87b5f61e5cb",
   "metadata": {},
   "outputs": [],
   "source": []
  },
  {
   "cell_type": "code",
   "execution_count": null,
   "id": "3f95f072-242c-4ff8-b1e4-68d0a2481188",
   "metadata": {},
   "outputs": [],
   "source": []
  },
  {
   "cell_type": "code",
   "execution_count": null,
   "id": "3e9d866f-8530-4f0c-b9a2-c5c10bc06f70",
   "metadata": {},
   "outputs": [],
   "source": []
  },
  {
   "cell_type": "code",
   "execution_count": null,
   "id": "747ed203-1428-4daf-9afc-23699616541c",
   "metadata": {},
   "outputs": [],
   "source": []
  },
  {
   "cell_type": "code",
   "execution_count": null,
   "id": "ef445001-fe0b-4135-8abf-63e13de68a4c",
   "metadata": {},
   "outputs": [],
   "source": []
  },
  {
   "cell_type": "code",
   "execution_count": null,
   "id": "b2a5515f-db09-471e-9268-32c633f1177b",
   "metadata": {},
   "outputs": [],
   "source": []
  },
  {
   "cell_type": "code",
   "execution_count": null,
   "id": "e067c8e2-4fa1-49b0-9ee9-8f6e74e1f9c9",
   "metadata": {},
   "outputs": [],
   "source": []
  },
  {
   "cell_type": "code",
   "execution_count": null,
   "id": "988bafde-5ae0-4a0a-9b62-33a93d1a706a",
   "metadata": {},
   "outputs": [],
   "source": []
  },
  {
   "cell_type": "code",
   "execution_count": null,
   "id": "fdaffac6-986e-404f-9203-2c34ec76a6b1",
   "metadata": {},
   "outputs": [],
   "source": []
  },
  {
   "cell_type": "code",
   "execution_count": null,
   "id": "1bd3aaf5-3174-461c-b4a3-0ab6c330e6c8",
   "metadata": {},
   "outputs": [],
   "source": []
  },
  {
   "cell_type": "code",
   "execution_count": null,
   "id": "6dbbf7b4-9b8a-4f44-a984-286ea3beb30b",
   "metadata": {},
   "outputs": [],
   "source": []
  },
  {
   "cell_type": "code",
   "execution_count": null,
   "id": "27b99039-1625-4422-894c-80fc18eb3ef6",
   "metadata": {},
   "outputs": [],
   "source": []
  },
  {
   "cell_type": "code",
   "execution_count": null,
   "id": "2ef5e563-a556-4991-9e0b-61e3fa29c2c4",
   "metadata": {},
   "outputs": [],
   "source": []
  },
  {
   "cell_type": "code",
   "execution_count": null,
   "id": "b88076a4-0db5-4c26-af54-00142772a7d6",
   "metadata": {},
   "outputs": [],
   "source": []
  },
  {
   "cell_type": "code",
   "execution_count": null,
   "id": "1ef23418-a210-4acc-9bbe-320386a9d0d7",
   "metadata": {},
   "outputs": [],
   "source": []
  },
  {
   "cell_type": "code",
   "execution_count": null,
   "id": "21175b1a-cb55-4309-af4b-dc43c95aa12d",
   "metadata": {},
   "outputs": [],
   "source": []
  },
  {
   "cell_type": "code",
   "execution_count": null,
   "id": "532149b3-ec7f-455b-bb02-b45c5ef90966",
   "metadata": {},
   "outputs": [],
   "source": []
  },
  {
   "cell_type": "code",
   "execution_count": null,
   "id": "f2b23c6e-7af1-40c5-adcd-75644249c68c",
   "metadata": {},
   "outputs": [],
   "source": []
  }
 ],
 "metadata": {
  "kernelspec": {
   "display_name": "Python 3 (ipykernel)",
   "language": "python",
   "name": "python3"
  },
  "language_info": {
   "codemirror_mode": {
    "name": "ipython",
    "version": 3
   },
   "file_extension": ".py",
   "mimetype": "text/x-python",
   "name": "python",
   "nbconvert_exporter": "python",
   "pygments_lexer": "ipython3",
   "version": "3.12.4"
  }
 },
 "nbformat": 4,
 "nbformat_minor": 5
}
